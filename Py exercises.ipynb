{
 "cells": [
  {
   "cell_type": "code",
   "execution_count": 1,
   "id": "20c37dec-1aa4-4559-9d91-b1e2dbd7e443",
   "metadata": {
    "tags": []
   },
   "outputs": [
    {
     "name": "stdout",
     "output_type": "stream",
     "text": [
      "{'Monty Python and the Holy Grail': ([9, 10, 9.5, 8.5, 3, 7.5, 8], 7.9), \"Monty Python's Life of Brian\": ([10, 10, 0, 9, 1, 8, 7.5, 8, 6, 9], 6.8), \"Monty Python's Meaning of Life\": ([7, 6, 5], 6.0), 'And Now For Something Completely Different': ([6, 5, 6, 6], 5.8)}\n",
      "{'Monty Python and the Holy Grail': ([9, 10, 9.5, 8.5, 3, 7.5, 8], 7.9), \"Monty Python's Life of Brian\": ([10, 10, 0, 9, 1, 8, 7.5, 8, 6, 9], 6.8), \"Monty Python's Meaning of Life\": ([7, 6, 5], 6.0), 'And Now For Something Completely Different': ([6, 5, 6, 6], 5.8)}\n"
     ]
    }
   ],
   "source": [
    "\"\"\"Exercise 1\n",
    "The code block below shows a list of movies. For each movie it also shows a \n",
    "list of ratings. Convert this code in such a way that it stores all this data \n",
    "in one dictionary, then use the dictionary to print the average rating for \n",
    "each movie, rounded to one decimal.\"\"\"\n",
    "# Create function movie_ratings.\n",
    "movies = [\"Monty Python and the Holy Grail\", \n",
    "          \"Monty Python's Life of Brian\",\n",
    "          \"Monty Python's Meaning of Life\",\n",
    "          \"And Now For Something Completely Different\"\n",
    "          ]\n",
    "\n",
    "grail_ratings = [[9, 10, 9.5, 8.5, 3, 7.5, 8]]\n",
    "brian_ratings = [[10, 10, 0, 9, 1, 8, 7.5, 8, 6, 9]]\n",
    "life_ratings = [[7, 6, 5]]\n",
    "different_ratings = [[6, 5, 6, 6]]\n",
    "x=0\n",
    "new_d={}\n",
    "c=grail_ratings+brian_ratings+life_ratings+different_ratings\n",
    "average=[]\n",
    "for r in range(4):\n",
    "    o=round(sum(c[r])/len(c[r]),1)\n",
    "    average.append(o)\n",
    "for i in movies:\n",
    "    d=movies.index(i)\n",
    "    f=movies.index(i)\n",
    "    ff=average[f]\n",
    "    e=c[d]\n",
    "    new_d.update({i:(e,ff)})\n",
    "print(new_d)\n",
    "#for i in new_d:\n",
    "    #average=sum/.count()\n",
    "print(new_d)\n"
   ]
  },
  {
   "cell_type": "code",
   "execution_count": 2,
   "id": "c1621d22-b759-43aa-94c8-732e5c17761b",
   "metadata": {
    "tags": []
   },
   "outputs": [
    {
     "name": "stdout",
     "output_type": "stream",
     "text": [
      "0 1 1 2 3 5 8 "
     ]
    }
   ],
   "source": [
    "\"\"\"Exercise 2\n",
    "The Fibonacci sequence is a sequence of numbers that starts with 1, followed \n",
    "by 1 again. Every next number is the sum of the two previous numbers. I.e., \n",
    "the sequence starts with 1, 1, 2, 3, 5, 8, 13, 21,... Write a function that\n",
    "calculates and prints the Fibonacci sequence until the numbers get higher than \n",
    "a 'maximum'.\"\"\"\n",
    "def print_fibonacci(maximum):\n",
    "    a, b = 0, 1  # Initialize the first two Fibonacci numbers\n",
    "    while a < maximum:\n",
    "        print(a, end=\" \")  # Print the current Fibonacci number followed by a space\n",
    "\n",
    "        # Update the Fibonacci numbers\n",
    "        a, b = b, a + b   #a takes the value of old b and b takes the value of old a + old b\n",
    "\n",
    "# Call the function with the maximum value you want\n",
    "print_fibonacci(10)\n"
   ]
  },
  {
   "cell_type": "code",
   "execution_count": 7,
   "id": "469b07fb-5bbc-405e-947f-f7c967309c4f",
   "metadata": {
    "tags": []
   },
   "outputs": [
    {
     "name": "stdout",
     "output_type": "stream",
     "text": [
      "['3Clubs', 'KingHearts', 'JackSpades', '6Spades', 'KingClubs', 'JackHearts', '7Diamonds', '3Hearts', 'AceDiamonds', '5Clubs', '10Spades', '5Spades', '10Diamonds', '7Hearts', '7Spades', '7Clubs', 'QueenSpades', '8Hearts', '2Diamonds', '4Spades', '3Spades', '2Spades', 'KingSpades', 'AceClubs', '8Clubs', 'QueenDiamonds', '2Hearts', '10Clubs', '6Clubs', '5Diamonds', '9Clubs', '6Hearts', '9Hearts', '4Diamonds', 'KingDiamonds', 'QueenClubs', '3Diamonds', '5Hearts', '8Diamonds', 'AceSpades', '2Clubs', '9Diamonds', 'JackDiamonds', '6Diamonds', '8Spades', 'AceHearts', 'QueenHearts', '10Hearts', 'JackClubs', '9Spades', '4Clubs', '4Hearts']\n"
     ]
    }
   ],
   "source": [
    "\"\"\"Exercise 3\n",
    "A playing card consists of a suit (\"Hearts\", \"Spades\", \"Clubs\", or \"Diamonds\") \n",
    "and a value (\"Ace\", 2, 3, 4, 5, 6, 7, 8, 9, 10, \"Jack\", \"Queen\", \"King\"). Write\n",
    "a function that creates and returns a list of all possible playing cards, which\n",
    "is a deck. Then create a function that shuffles the deck, producing a random\n",
    "order.\"\"\"\n",
    "import random\n",
    "# Creating a deck.\n",
    "def make_deck():\n",
    "    suits = [\"Hearts\", \"Spades\", \"Clubs\", \"Diamonds\"]\n",
    "    values = [\"Ace\", 2, 3, 4, 5, 6, 7, 8, 9, 10, \"Jack\", \"Queen\", \"King\"]\n",
    "    a = 0  # Fix off-by-one error\n",
    "    deck = []\n",
    "    while a < len(values):\n",
    "        for i in suits:\n",
    "            card = str(values[a]) + str(i)\n",
    "            deck.append(card)\n",
    "        a += 1\n",
    "    return deck  # a list that represents a deck\n",
    "\n",
    "make_deck()\n",
    "deck = make_deck()\n",
    "\n",
    "# Shuffling a deck.\n",
    "def shuffle_deck(deck):\n",
    "    deck_shuffle = []\n",
    "    while len(deck_shuffle) < len(deck):\n",
    "        i = random.randrange(0, len(deck))  # Fix potential out-of-range issue\n",
    "        if deck[i] not in deck_shuffle:\n",
    "            deck_shuffle.append(deck[i])\n",
    "        else:\n",
    "            continue\n",
    "    return print(deck_shuffle)  # shuffle the deck in a random order\n",
    "\n",
    "shuffle_deck(deck)\n"
   ]
  },
  {
   "cell_type": "code",
   "execution_count": 10,
   "id": "58adc3a5-feba-4dd2-b582-866ae0d91a29",
   "metadata": {
    "tags": []
   },
   "outputs": [
    {
     "name": "stdout",
     "output_type": "stream",
     "text": [
      "laatst week de koninklijk feest hal zaag de eerst optreden van een nieuw symphonie bij een van de world's leidend modern composers, arthur \"two-sheds\" jackson.\n"
     ]
    }
   ],
   "source": [
    "'''Exercise 4 \n",
    "The code block below contains a very small (actual) dictionary that contains the translations of English words to Dutch.\n",
    "Write a function that uses this dict to return a word-for-word translation of the given sentence.\n",
    "A word for which you cannot find a translation, you can leave \"as is\".\n",
    "The dictionary is supposed to be used case-insensitively, but your translation may consist of all lower case words.\n",
    "Remove punctuations from the translation.'''\n",
    "english_dutch = {\n",
    "    \"last\": \"laatst\", \"week\": \"week\", \"the\": \"de\", \"royal\": \"koninklijk\", \n",
    "    \"festival\": \"feest\", \"hall\": \"hal\", \"saw\": \"zaag\", \"first\": \"eerst\",\n",
    "    \"performance\": \"optreden\", \"of\": \"van\", \"a\": \"een\", \"new\": \"nieuw\", \n",
    "    \"symphony\": \"symphonie\", \"by\": \"bij\", \"one\": \"een\", \n",
    "    \"world\": \"wereld\", \"leading\": \"leidend\", \"modern\": \"modern\",\n",
    "    \"composer\": \"componist\", \"composers\": \"componisten\", \"two\": \"twee\",\n",
    "    \"shed\": \"schuur\", \"sheds\":\"schuren\"\n",
    "}\n",
    "\n",
    "def translate(english_text):\n",
    "\n",
    "    words = english_text.lower().split()\n",
    "    translation = []\n",
    "\n",
    "    for word in words:\n",
    "        translated_word = english_dutch.get(word,word)\n",
    "        translation.append(translated_word)\n",
    "\n",
    "    return ' '.join(translation)\n",
    "        \n",
    "    # a word-by-word translation of english_text to dutch \n",
    "\n",
    "sentence = \"Last week The Royal Festival Hall saw the first performance \\\n",
    "of a new symphony by one of the world's leading modern composers, \\\n",
    "Arthur \\\"Two-Sheds\\\" Jackson.\"\n",
    "print(translate(sentence))"
   ]
  },
  {
   "cell_type": "code",
   "execution_count": null,
   "id": "be507b0f-4684-4bf4-bf47-71c8b13962e2",
   "metadata": {},
   "outputs": [],
   "source": [
    "\n"
   ]
  }
 ],
 "metadata": {
  "kernelspec": {
   "display_name": "Python 3 (ipykernel)",
   "language": "python",
   "name": "python3"
  },
  "language_info": {
   "codemirror_mode": {
    "name": "ipython",
    "version": 3
   },
   "file_extension": ".py",
   "mimetype": "text/x-python",
   "name": "python",
   "nbconvert_exporter": "python",
   "pygments_lexer": "ipython3",
   "version": "3.11.4"
  }
 },
 "nbformat": 4,
 "nbformat_minor": 5
}
